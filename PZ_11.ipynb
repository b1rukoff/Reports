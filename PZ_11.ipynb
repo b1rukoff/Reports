{
  "nbformat": 4,
  "nbformat_minor": 0,
  "metadata": {
    "colab": {
      "name": "PZ_11.ipynb",
      "provenance": [],
      "authorship_tag": "ABX9TyPaXyJgL2AR/0JjsK0fc0rq",
      "include_colab_link": true
    },
    "kernelspec": {
      "name": "python3",
      "display_name": "Python 3"
    },
    "language_info": {
      "name": "python"
    }
  },
  "cells": [
    {
      "cell_type": "markdown",
      "metadata": {
        "id": "view-in-github",
        "colab_type": "text"
      },
      "source": [
        "<a href=\"https://colab.research.google.com/github/b1rukoff/Reports/blob/main/PZ_11.ipynb\" target=\"_parent\"><img src=\"https://colab.research.google.com/assets/colab-badge.svg\" alt=\"Open In Colab\"/></a>"
      ]
    },
    {
      "cell_type": "code",
      "execution_count": 4,
      "metadata": {
        "colab": {
          "base_uri": "https://localhost:8080/"
        },
        "id": "0hOUJiFfK4_D",
        "outputId": "2b08963b-d5dd-4d6c-eea7-6f5774c18d73"
      },
      "outputs": [
        {
          "output_type": "stream",
          "name": "stdout",
          "text": [
            "Введите число A: 1\n",
            "True\n"
          ]
        }
      ],
      "source": [
        "# PZ_3_1\n",
        "# Вариант \n",
        "A = input(\"Введите число A: \")\n",
        "\n",
        "while type(A) != int:  # Обработка исключений.\n",
        "    try:\n",
        "        A = int(A)\n",
        "    except ValueError:\n",
        "        print(\"Неправильный ввод!\")\n",
        "        A = input(\"Введите число A: \")\n",
        "\n",
        "print(A % 2 != 0)"
      ]
    },
    {
      "cell_type": "code",
      "source": [
        "# PZ_4_1\n",
        "# Вариант 2\n",
        "N = 0\n",
        "A = input(\"Введите число A: \")\n",
        "\n",
        "while type(A) != int:  # Обработка исключений\n",
        "    try:\n",
        "        A = int(A)\n",
        "    except ValueError:\n",
        "        print(\"Неправильный ввод!\")\n",
        "        A = input(\"Введите число A: \")\n",
        "\n",
        "B = input(\"Введите число B (должно быть больше числа A): \")\n",
        "\n",
        "while type(B) != int:  # Обработка исключений\n",
        "    try:\n",
        "        B = int(B)\n",
        "    except ValueError:\n",
        "        print(\"Неправильный ввод!\")\n",
        "        B = input(\"Введите число B (должно быть больше числа A): \")\n",
        "    if type(B) == int and B <= A:\n",
        "        print(\"Неправильный ввод!\")\n",
        "        B = input(\"Введите число B (должно быть больше числа A): \")\n",
        "\n",
        "while B > A and B - A > 1:\n",
        "    print(B - 1)\n",
        "    B -= 1\n",
        "    N += 1\n",
        "print(\"Количество чисел:\", N)"
      ],
      "metadata": {
        "colab": {
          "base_uri": "https://localhost:8080/"
        },
        "id": "hnfQ9jKcN8s6",
        "outputId": "236d5e7d-b6ef-4b40-dbc3-09bf5571972b"
      },
      "execution_count": 5,
      "outputs": [
        {
          "output_type": "stream",
          "name": "stdout",
          "text": [
            "Введите число A: 30\n",
            "Введите число B (должно быть больше числа A): 40\n",
            "39\n",
            "38\n",
            "37\n",
            "36\n",
            "35\n",
            "34\n",
            "33\n",
            "32\n",
            "31\n",
            "Количество чисел: 9\n"
          ]
        }
      ]
    },
    {
      "cell_type": "code",
      "source": [
        "# PZ_5_1\n",
        "# Вариант 2\n",
        "import random\n",
        "import string\n",
        "\n",
        "def generate(length):  # Функция, генерирующая случайные символы\n",
        "    letters_and_digits = string.ascii_letters + string.digits\n",
        "    rand_string = ''.join(random.sample(letters_and_digits, length))\n",
        "    if length == 1:\n",
        "        print(length, \"случайный символ:\", rand_string)\n",
        "    else:\n",
        "        print(length, \"случайных символов:\", rand_string)\n",
        "\n",
        "x = int(input(\"Введи количество символов, которое нужно сгенерировать (не больше 62): \"))\n",
        "\n",
        "generate(x)"
      ],
      "metadata": {
        "colab": {
          "base_uri": "https://localhost:8080/"
        },
        "id": "3BKv_uMUN9ao",
        "outputId": "f931c32c-b13d-490a-9604-2d42c138c62d"
      },
      "execution_count": 3,
      "outputs": [
        {
          "output_type": "stream",
          "name": "stdout",
          "text": [
            "Введи количество символов, которое нужно сгенерировать (не больше 62): 45\n",
            "45 случайных символов: EA1d6FwpWhbQSP9ylJxTY0vcqjNs8KOrn5aBHXVtkRZ7i\n"
          ]
        }
      ]
    }
  ]
}