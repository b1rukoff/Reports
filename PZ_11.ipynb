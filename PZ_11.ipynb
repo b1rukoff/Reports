{
  "nbformat": 4,
  "nbformat_minor": 0,
  "metadata": {
    "colab": {
      "name": "PZ_11.ipynb",
      "provenance": [],
      "collapsed_sections": [],
      "authorship_tag": "ABX9TyOsnlDrXW5vDRJe1qQq+9j9",
      "include_colab_link": true
    },
    "kernelspec": {
      "name": "python3",
      "display_name": "Python 3"
    },
    "language_info": {
      "name": "python"
    }
  },
  "cells": [
    {
      "cell_type": "markdown",
      "metadata": {
        "id": "view-in-github",
        "colab_type": "text"
      },
      "source": [
        "<a href=\"https://colab.research.google.com/github/b1rukoff/Reports/blob/main/PZ_11.ipynb\" target=\"_parent\"><img src=\"https://colab.research.google.com/assets/colab-badge.svg\" alt=\"Open In Colab\"/></a>"
      ]
    },
    {
      "cell_type": "markdown",
      "source": [
        "Вариант 2"
      ],
      "metadata": {
        "id": "L8vcGokTQGMK"
      }
    },
    {
      "cell_type": "markdown",
      "source": [
        "PZ_3_1"
      ],
      "metadata": {
        "id": "BwayWX2BQKHc"
      }
    },
    {
      "cell_type": "code",
      "execution_count": 6,
      "metadata": {
        "colab": {
          "base_uri": "https://localhost:8080/"
        },
        "id": "0hOUJiFfK4_D",
        "outputId": "6a396bd2-37f7-4ac8-beec-4090490c22a2"
      },
      "outputs": [
        {
          "output_type": "stream",
          "name": "stdout",
          "text": [
            "Введите число A: 5\n",
            "True\n"
          ]
        }
      ],
      "source": [
        "A = input(\"Введите число A: \")\n",
        "\n",
        "while type(A) != int:  # Обработка исключений.\n",
        "    try:\n",
        "        A = int(A)\n",
        "    except ValueError:\n",
        "        print(\"Неправильный ввод!\")\n",
        "        A = input(\"Введите число A: \")\n",
        "\n",
        "print(A % 2 != 0)"
      ]
    },
    {
      "cell_type": "markdown",
      "source": [
        "PZ_4_1"
      ],
      "metadata": {
        "id": "kKONHW2_QNcH"
      }
    },
    {
      "cell_type": "code",
      "source": [
        "N = 0\n",
        "A = input(\"Введите число A: \")\n",
        "\n",
        "while type(A) != int:  # Обработка исключений\n",
        "    try:\n",
        "        A = int(A)\n",
        "    except ValueError:\n",
        "        print(\"Неправильный ввод!\")\n",
        "        A = input(\"Введите число A: \")\n",
        "\n",
        "B = input(\"Введите число B (должно быть больше числа A): \")\n",
        "\n",
        "while type(B) != int:  # Обработка исключений\n",
        "    try:\n",
        "        B = int(B)\n",
        "    except ValueError:\n",
        "        print(\"Неправильный ввод!\")\n",
        "        B = input(\"Введите число B (должно быть больше числа A): \")\n",
        "    if type(B) == int and B <= A:\n",
        "        print(\"Неправильный ввод!\")\n",
        "        B = input(\"Введите число B (должно быть больше числа A): \")\n",
        "\n",
        "while B > A and B - A > 1:\n",
        "    print(B - 1)\n",
        "    B -= 1\n",
        "    N += 1\n",
        "print(\"Количество чисел:\", N)"
      ],
      "metadata": {
        "colab": {
          "base_uri": "https://localhost:8080/"
        },
        "id": "hnfQ9jKcN8s6",
        "outputId": "12bcbbd2-06bc-4b2a-dbeb-27a2844328da"
      },
      "execution_count": 7,
      "outputs": [
        {
          "output_type": "stream",
          "name": "stdout",
          "text": [
            "Введите число A: 5\n",
            "Введите число B (должно быть больше числа A): 15\n",
            "14\n",
            "13\n",
            "12\n",
            "11\n",
            "10\n",
            "9\n",
            "8\n",
            "7\n",
            "6\n",
            "Количество чисел: 9\n"
          ]
        }
      ]
    },
    {
      "cell_type": "markdown",
      "source": [
        "PZ_5_1"
      ],
      "metadata": {
        "id": "f8n9kIlXQQbJ"
      }
    },
    {
      "cell_type": "code",
      "source": [
        "import random\n",
        "import string\n",
        "\n",
        "def generate(length):  # Функция, генерирующая случайные символы\n",
        "    letters_and_digits = string.ascii_letters + string.digits\n",
        "    rand_string = ''.join(random.sample(letters_and_digits, length))\n",
        "    if length == 1:\n",
        "        print(length, \"случайный символ:\", rand_string)\n",
        "    else:\n",
        "        print(length, \"случайных символов:\", rand_string)\n",
        "\n",
        "x = int(input(\"Введи количество символов, которое нужно сгенерировать (не больше 62): \"))\n",
        "\n",
        "generate(x)"
      ],
      "metadata": {
        "colab": {
          "base_uri": "https://localhost:8080/"
        },
        "id": "3BKv_uMUN9ao",
        "outputId": "f931c32c-b13d-490a-9604-2d42c138c62d"
      },
      "execution_count": null,
      "outputs": [
        {
          "output_type": "stream",
          "name": "stdout",
          "text": [
            "Введи количество символов, которое нужно сгенерировать (не больше 62): 45\n",
            "45 случайных символов: EA1d6FwpWhbQSP9ylJxTY0vcqjNs8KOrn5aBHXVtkRZ7i\n"
          ]
        }
      ]
    }
  ]
}