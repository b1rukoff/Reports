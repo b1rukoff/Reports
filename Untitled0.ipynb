{
  "nbformat": 4,
  "nbformat_minor": 0,
  "metadata": {
    "colab": {
      "name": "Untitled0.ipynb",
      "provenance": [],
      "authorship_tag": "ABX9TyMfcaNsRGfEUAUE1B3cl83h",
      "include_colab_link": true
    },
    "kernelspec": {
      "name": "python3",
      "display_name": "Python 3"
    },
    "language_info": {
      "name": "python"
    }
  },
  "cells": [
    {
      "cell_type": "markdown",
      "metadata": {
        "id": "view-in-github",
        "colab_type": "text"
      },
      "source": [
        "<a href=\"https://colab.research.google.com/github/b1rukoff/Reports/blob/main/Untitled0.ipynb\" target=\"_parent\"><img src=\"https://colab.research.google.com/assets/colab-badge.svg\" alt=\"Open In Colab\"/></a>"
      ]
    },
    {
      "cell_type": "code",
      "execution_count": 1,
      "metadata": {
        "colab": {
          "base_uri": "https://localhost:8080/"
        },
        "id": "0hOUJiFfK4_D",
        "outputId": "b5af626d-df47-49f3-eeea-c745efec1a7b"
      },
      "outputs": [
        {
          "output_type": "stream",
          "name": "stdout",
          "text": [
            "Введите число A: 25\n",
            "True\n"
          ]
        }
      ],
      "source": [
        "\n",
        "A = input(\"Введите число A: \")\n",
        "\n",
        "while type(A) != int:  # Обработка исключений.\n",
        "    try:\n",
        "        A = int(A)\n",
        "    except ValueError:\n",
        "        print(\"Неправильный ввод!\")\n",
        "        A = input(\"Введите число A: \")\n",
        "\n",
        "print(A % 2 != 0)"
      ]
    }
  ]
}